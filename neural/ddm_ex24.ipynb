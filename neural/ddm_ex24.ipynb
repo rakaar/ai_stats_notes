{
 "cells": [
  {
   "cell_type": "markdown",
   "metadata": {},
   "source": [
    "# NUTS"
   ]
  },
  {
   "cell_type": "code",
   "execution_count": 2,
   "metadata": {},
   "outputs": [],
   "source": [
    "import numpy as np\n",
    "import pickle\n",
    "from scipy import stats\n",
    "from joblib import Parallel, delayed\n",
    "import matplotlib.pyplot as plt\n",
    "from nuts import NUTSSampler, nuts6\n",
    "import sys\n",
    "from numba import jit"
   ]
  },
  {
   "cell_type": "code",
   "execution_count": 3,
   "metadata": {},
   "outputs": [],
   "source": [
    "@jit(nopython=True)\n",
    "def rtd_density_a(t, v, a, w, K_max=10):\n",
    "    if t > 0.25:\n",
    "        non_sum_term = (np.pi/a**2)*np.exp(-v*a*w - (v**2 * t/2))\n",
    "        k_vals = np.linspace(1, K_max, K_max)\n",
    "        sum_sine_term = np.sin(k_vals*np.pi*w)\n",
    "        sum_exp_term = np.exp(-(k_vals**2 * np.pi**2 * t)/(2*a**2))\n",
    "        sum_result = np.sum(k_vals * sum_sine_term * sum_exp_term)\n",
    "    else:\n",
    "        non_sum_term = (1/a**2)*(a**3/np.sqrt(2*np.pi*t**3))*np.exp(-v*a*w - (v**2 * t)/2)\n",
    "        K_max = int(K_max/2)\n",
    "        k_vals = np.linspace(-K_max, K_max, 2*K_max + 1)\n",
    "        sum_w_term = w + 2*k_vals\n",
    "        sum_exp_term = np.exp(-(a**2 * (w + 2*k_vals)**2)/(2*t))\n",
    "        sum_result = np.sum(sum_w_term*sum_exp_term)\n",
    "\n",
    "    \n",
    "    density =  non_sum_term * sum_result\n",
    "    if density <= 0:\n",
    "        density += 1e-6\n",
    "    return density"
   ]
  },
  {
   "cell_type": "code",
   "execution_count": 4,
   "metadata": {},
   "outputs": [],
   "source": [
    "def loglike_fn(params):\n",
    "    v,a,w = params\n",
    "    with open('sample_rt_nuts.pkl', 'rb') as f:\n",
    "        RTs = np.array(pickle.load(f))\n",
    "    with open('sample_choice_nuts.pkl', 'rb') as f:\n",
    "        choices = np.array(pickle.load(f))\n",
    "\n",
    "    choices_pos = np.where(choices == 1)[0]\n",
    "    choices_neg = np.where(choices == -1)[0]\n",
    "\n",
    "    RTs_pos = RTs[choices_pos]\n",
    "    RTs_neg = RTs[choices_neg]\n",
    "\n",
    "    prob_pos = Parallel(n_jobs=-1)(delayed(rtd_density_a)(t, -v, a, 1-w) for t in RTs_pos)\n",
    "    prob_neg = Parallel(n_jobs=-1)(delayed(rtd_density_a)(t, v, a, w) for t in RTs_neg)\n",
    "\n",
    "    prob_pos = np.array(prob_pos)\n",
    "    prob_neg = np.array(prob_neg)\n",
    "\n",
    "    prob_pos[prob_pos <= 0] = 1e-10\n",
    "    prob_neg[prob_neg <= 0] = 1e-10\n",
    "\n",
    "    log_pos = np.log(prob_pos)\n",
    "    log_neg = np.log(prob_neg)\n",
    "    \n",
    "    if np.isnan(log_pos).any() or np.isnan(log_neg).any():\n",
    "        print('log_neg',log_neg)\n",
    "        print('prob_neg = ', prob_neg)\n",
    "        raise ValueError(\"NaN values found in log_pos or log_neg\")\n",
    "\n",
    "    loglike = (np.sum(log_pos) + np.sum(log_neg))\n",
    "    return loglike"
   ]
  },
  {
   "cell_type": "code",
   "execution_count": null,
   "metadata": {},
   "outputs": [],
   "source": [
    "def grad_fn(params):\n",
    "    v,a,w = params\n",
    "    delta = 1e-6\n",
    "    grads = np.zeros_like(params)\n",
    "    with open('sample_rt_nuts.pkl', 'rb') as f:\n",
    "        RTs = np.array(pickle.load(f))\n",
    "    with open('sample_choice_nuts.pkl', 'rb') as f:\n",
    "        choices = np.array(pickle.load(f))\n",
    "\n",
    "    choices_pos = np.where(choices == 1)[0]\n",
    "    choices_neg = np.where(choices == -1)[0]\n",
    "\n",
    "    RTs_pos = RTs[choices_pos]\n",
    "    RTs_neg = RTs[choices_neg]\n",
    "\n",
    "    grad_pos_v = Parallel(n_jobs=-1)(delayed(delta_rule)(t, [-v, a, 1-w], [delta,0,0], delta) for t in RTs_pos)\n",
    "    grad_neg_v = Parallel(n_jobs=-1)(delayed(delta_rule)(t, [v, a, w], [delta,0,0], delta) for t in RTs_neg)\n",
    "    grads[0] = np.sum(grad_pos_v) + np.sum(grad_neg_v)\n",
    "\n",
    "\n",
    "    grad_pos_a = Parallel(n_jobs=-1)(delayed(delta_rule)(t, [-v, a, 1-w], [0,delta,0], delta) for t in RTs_pos)\n",
    "    grad_neg_a = Parallel(n_jobs=-1)(delayed(delta_rule)(t, [v, a, w], [0,delta,0], delta) for t in RTs_neg)\n",
    "    grads[1] = np.sum(grad_pos_a) + np.sum(grad_neg_a)\n",
    "\n",
    "\n",
    "    grad_pos_w = Parallel(n_jobs=-1)(delayed(delta_rule)(t, [-v, a, 1-w], [0,0,delta], delta) for t in RTs_pos)\n",
    "    grad_neg_w = Parallel(n_jobs=-1)(delayed(delta_rule)(t, [v, a, w], [0,0,delta], delta) for t in RTs_neg)\n",
    "    grads[2] = np.sum(grad_pos_w) + np.sum(grad_neg_w)\n",
    "\n",
    "    return grads\n",
    "\n",
    "def delta_rule(t,params,delta_arr, delta):\n",
    "    v,a,w = params\n",
    "    rtd = rtd_density_a(t,v,a,w)\n",
    "\n",
    "    params = np.array(params); delta_arr = np.array(delta_arr)\n",
    "    params = params + delta_arr\n",
    "    v,a,w = params\n",
    "    rtd_delta = rtd_density_a(t, v, a, w)\n",
    "\n",
    "\n",
    "    diff_val = (1.0/rtd)*(rtd_delta - rtd)*(1.0/delta)\n",
    "    return diff_val\n"
   ]
  },
  {
   "cell_type": "code",
   "execution_count": null,
   "metadata": {},
   "outputs": [],
   "source": [
    "def log_like_and_grad(params):\n",
    "    loglike = loglike_fn(params)\n",
    "    grad = grad_fn(params)\n",
    "\n",
    "    return loglike, grad"
   ]
  }
 ],
 "metadata": {
  "kernelspec": {
   "display_name": "Python 3",
   "language": "python",
   "name": "python3"
  },
  "language_info": {
   "codemirror_mode": {
    "name": "ipython",
    "version": 3
   },
   "file_extension": ".py",
   "mimetype": "text/x-python",
   "name": "python",
   "nbconvert_exporter": "python",
   "pygments_lexer": "ipython3",
   "version": "3.10.12"
  }
 },
 "nbformat": 4,
 "nbformat_minor": 2
}
