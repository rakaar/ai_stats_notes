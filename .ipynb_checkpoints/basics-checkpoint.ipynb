{
 "cells": [
  {
   "cell_type": "code",
   "execution_count": 2,
   "id": "ebfa843e-8690-4a83-af7b-bb47afc7d2d7",
   "metadata": {},
   "outputs": [],
   "source": [
    "import torch"
   ]
  },
  {
   "cell_type": "code",
   "execution_count": 3,
   "id": "a5e4d55b-ba67-4255-9a8f-54e49c33e07a",
   "metadata": {},
   "outputs": [
    {
     "name": "stdout",
     "output_type": "stream",
     "text": [
      "tensor([[0.4607, 0.5465, 0.1442, 0.6470],\n",
      "        [0.6274, 0.7677, 0.0713, 0.6174],\n",
      "        [0.3265, 0.3235, 0.3442, 0.7509],\n",
      "        [0.4931, 0.8697, 0.1304, 0.8621],\n",
      "        [0.1091, 0.5450, 0.1014, 0.6669]])\n"
     ]
    }
   ],
   "source": [
    "x = torch.rand(5,4)\n",
    "print(x)"
   ]
  },
  {
   "cell_type": "code",
   "execution_count": 4,
   "id": "71318d25-00f2-43cc-915a-6e6eb30bed33",
   "metadata": {},
   "outputs": [
    {
     "data": {
      "text/plain": [
       "torch.Size([5, 4])"
      ]
     },
     "execution_count": 4,
     "metadata": {},
     "output_type": "execute_result"
    }
   ],
   "source": [
    "x.shape"
   ]
  },
  {
   "cell_type": "code",
   "execution_count": 5,
   "id": "c5cc17a3-9610-486d-967a-5c215b683bfe",
   "metadata": {},
   "outputs": [
    {
     "data": {
      "text/plain": [
       "4"
      ]
     },
     "execution_count": 5,
     "metadata": {},
     "output_type": "execute_result"
    }
   ],
   "source": [
    "x.shape[1]"
   ]
  },
  {
   "cell_type": "code",
   "execution_count": 6,
   "id": "62207c95-210f-4572-bfe4-82150f9a8213",
   "metadata": {},
   "outputs": [
    {
     "data": {
      "text/plain": [
       "torch.float32"
      ]
     },
     "execution_count": 6,
     "metadata": {},
     "output_type": "execute_result"
    }
   ],
   "source": [
    "x.dtype"
   ]
  },
  {
   "cell_type": "code",
   "execution_count": 7,
   "id": "0f8a6293-172e-4c38-b3cf-7f485ed2c442",
   "metadata": {},
   "outputs": [
    {
     "data": {
      "text/plain": [
       "tensor([[0.8068, 0.8342, 0.6377],\n",
       "        [0.0966, 0.0686, 0.4969],\n",
       "        [0.7049, 0.6726, 0.7786],\n",
       "        [0.3824, 0.8241, 0.0105],\n",
       "        [0.1045, 0.1402, 0.4811]])"
      ]
     },
     "execution_count": 7,
     "metadata": {},
     "output_type": "execute_result"
    }
   ],
   "source": [
    "x = torch.rand(5,3, dtype = torch.float32)\n",
    "x"
   ]
  },
  {
   "cell_type": "code",
   "execution_count": 8,
   "id": "b4984e6d-a494-418b-b5b2-f6dcd119475e",
   "metadata": {},
   "outputs": [
    {
     "name": "stdout",
     "output_type": "stream",
     "text": [
      "tensor([5., 3.], requires_grad=True)\n"
     ]
    }
   ],
   "source": [
    "x = torch.tensor([5.0, 3], requires_grad=True)\n",
    "print(x)"
   ]
  },
  {
   "cell_type": "code",
   "execution_count": 9,
   "id": "73009b07-ec30-49a8-967b-1b01813d2ccd",
   "metadata": {},
   "outputs": [
    {
     "name": "stdout",
     "output_type": "stream",
     "text": [
      "torch.float32\n",
      "torch.float32\n"
     ]
    }
   ],
   "source": [
    "x = torch.rand(2,2)\n",
    "y = torch.rand(2,2)\n",
    "\n",
    "# s = torch.sum(x,y)\n",
    "print(x.dtype)\n",
    "print(y.dtype)\n",
    "\n",
    "# torch.sum(x,y,dim=1)"
   ]
  },
  {
   "cell_type": "code",
   "execution_count": 10,
   "id": "b53b9f9d-6911-4fba-96c9-0791761f581d",
   "metadata": {},
   "outputs": [
    {
     "data": {
      "text/plain": [
       "tensor([[1.8244, 0.4173],\n",
       "        [1.7281, 0.7395]])"
      ]
     },
     "execution_count": 10,
     "metadata": {},
     "output_type": "execute_result"
    }
   ],
   "source": [
    "x + y"
   ]
  },
  {
   "cell_type": "code",
   "execution_count": 11,
   "id": "999fb161-027b-451e-a002-4ff03ddcd00f",
   "metadata": {},
   "outputs": [
    {
     "data": {
      "text/plain": [
       "torch.Size([2])"
      ]
     },
     "execution_count": 11,
     "metadata": {},
     "output_type": "execute_result"
    }
   ],
   "source": [
    "x[:,0].shape"
   ]
  },
  {
   "cell_type": "code",
   "execution_count": 12,
   "id": "9f607061-43b2-4f5a-9906-7884b560a9a1",
   "metadata": {},
   "outputs": [
    {
     "data": {
      "text/plain": [
       "tensor(0.1612)"
      ]
     },
     "execution_count": 12,
     "metadata": {},
     "output_type": "execute_result"
    }
   ],
   "source": [
    "x[1,1]"
   ]
  },
  {
   "cell_type": "code",
   "execution_count": 13,
   "id": "14c3ae94-8cab-42f7-8768-2aa564591fae",
   "metadata": {},
   "outputs": [
    {
     "data": {
      "text/plain": [
       "tensor([[0.9728, 0.3944],\n",
       "        [0.9890, 0.1612]])"
      ]
     },
     "execution_count": 13,
     "metadata": {},
     "output_type": "execute_result"
    }
   ],
   "source": [
    "x"
   ]
  },
  {
   "cell_type": "code",
   "execution_count": 14,
   "id": "5d3e8df0-c3d7-424f-9152-1a0d2093513d",
   "metadata": {},
   "outputs": [
    {
     "data": {
      "text/plain": [
       "0.16119533777236938"
      ]
     },
     "execution_count": 14,
     "metadata": {},
     "output_type": "execute_result"
    }
   ],
   "source": [
    "x[1,1].item()"
   ]
  },
  {
   "cell_type": "code",
   "execution_count": 15,
   "id": "7019dcb4-ecec-4217-bc7b-f47fdc96c2fe",
   "metadata": {},
   "outputs": [
    {
     "data": {
      "text/plain": [
       "tensor([0.9728, 0.3944, 0.9890, 0.1612])"
      ]
     },
     "execution_count": 15,
     "metadata": {},
     "output_type": "execute_result"
    }
   ],
   "source": [
    "x.view(4)"
   ]
  },
  {
   "cell_type": "code",
   "execution_count": 16,
   "id": "a3d15db5-0bda-47f1-8b61-5e97cd275e04",
   "metadata": {},
   "outputs": [
    {
     "data": {
      "text/plain": [
       "tensor([0.9728, 0.3944, 0.9890, 0.1612])"
      ]
     },
     "execution_count": 16,
     "metadata": {},
     "output_type": "execute_result"
    }
   ],
   "source": [
    "x.view(-1)"
   ]
  },
  {
   "cell_type": "code",
   "execution_count": 17,
   "id": "dcbcaf88-e019-4456-ab2a-f6684372c36e",
   "metadata": {},
   "outputs": [
    {
     "data": {
      "text/plain": [
       "array([[0.97279006, 0.3944233 ],\n",
       "       [0.98895115, 0.16119534]], dtype=float32)"
      ]
     },
     "execution_count": 17,
     "metadata": {},
     "output_type": "execute_result"
    }
   ],
   "source": [
    "x.numpy()"
   ]
  },
  {
   "cell_type": "code",
   "execution_count": 18,
   "id": "3d77b6f6-2405-4680-b208-2d68d42be38b",
   "metadata": {},
   "outputs": [
    {
     "data": {
      "text/plain": [
       "True"
      ]
     },
     "execution_count": 18,
     "metadata": {},
     "output_type": "execute_result"
    }
   ],
   "source": [
    "torch.cuda.is_available()"
   ]
  },
  {
   "cell_type": "code",
   "execution_count": 20,
   "id": "c6b24300-91a1-4b07-8f38-0a6d5453a337",
   "metadata": {},
   "outputs": [
    {
     "data": {
      "text/plain": [
       "device(type='cuda')"
      ]
     },
     "execution_count": 20,
     "metadata": {},
     "output_type": "execute_result"
    }
   ],
   "source": [
    "device = torch.device('cuda')\n",
    "device"
   ]
  },
  {
   "cell_type": "code",
   "execution_count": 22,
   "id": "801d2688-0e40-4b38-b0a6-fb853eb9c3f4",
   "metadata": {},
   "outputs": [
    {
     "data": {
      "text/plain": [
       "tensor([[0.9150, 0.4230],\n",
       "        [0.1824, 0.8695]], device='cuda:0')"
      ]
     },
     "execution_count": 22,
     "metadata": {},
     "output_type": "execute_result"
    }
   ],
   "source": [
    "x = torch.rand(2,2,  device=device)\n",
    "x"
   ]
  },
  {
   "cell_type": "code",
   "execution_count": 25,
   "id": "0cb04413-e814-4f6c-b6b8-98ed951f613e",
   "metadata": {},
   "outputs": [
    {
     "name": "stdout",
     "output_type": "stream",
     "text": [
      "x is  tensor([0.4936, 0.5979], requires_grad=True)\n"
     ]
    }
   ],
   "source": [
    "x = torch.rand(2, requires_grad=True)\n",
    "print('x is ', x)"
   ]
  },
  {
   "cell_type": "code",
   "execution_count": 26,
   "id": "f6351037-0e3f-4d03-9087-4ba1083ea964",
   "metadata": {},
   "outputs": [
    {
     "name": "stdout",
     "output_type": "stream",
     "text": [
      "y =  tensor([0.2436, 0.3575], grad_fn=<MulBackward0>)\n"
     ]
    }
   ],
   "source": [
    "y = x*x\n",
    "print('y = ',y)"
   ]
  },
  {
   "cell_type": "code",
   "execution_count": 31,
   "id": "cf5b9dcb-1796-479a-8ea1-d1842b5fe1d3",
   "metadata": {},
   "outputs": [
    {
     "name": "stdout",
     "output_type": "stream",
     "text": [
      "tensor([0.9872, 1.1958])\n"
     ]
    }
   ],
   "source": [
    "z = y.sum()\n",
    "z.backward()\n",
    "print(x.grad)\n",
    "# need to have a scalar to cal grad "
   ]
  },
  {
   "cell_type": "code",
   "execution_count": 39,
   "id": "7a63a54b-a1a3-444f-95f9-291231371361",
   "metadata": {},
   "outputs": [
    {
     "name": "stdout",
     "output_type": "stream",
     "text": [
      "<SumBackward0 object at 0x7d3375fa7f70>\n",
      "True\n",
      "False\n"
     ]
    }
   ],
   "source": [
    "print(z.grad_fn)\n",
    "z.grad_fn\n",
    "\n",
    "x.requires_grad_(False)\n",
    "x.requires_grad # remove requires_grad\n",
    "x.requires_grad_(True)\n",
    "\n",
    "# use with torch.no_grad()\n",
    "y = x*x\n",
    "print(y.requires_grad)\n",
    "with torch.no_grad():\n",
    "    y = x*x\n",
    "    print(y.requires_grad)"
   ]
  },
  {
   "cell_type": "code",
   "execution_count": 44,
   "id": "dc98a4ee-4215-4ae0-a13e-a6afd936b033",
   "metadata": {},
   "outputs": [
    {
     "name": "stdout",
     "output_type": "stream",
     "text": [
      "tensor([ 1,  2,  3,  4,  5,  6,  7,  8,  9, 10])\n"
     ]
    }
   ],
   "source": [
    "import numpy as np\n",
    "np_data = np.arange(1,11)\n",
    "x_data = torch.from_numpy(np_data)\n",
    "print(x_data)"
   ]
  },
  {
   "cell_type": "code",
   "execution_count": 46,
   "id": "c3afc517-b9b0-467f-be66-ce50c80502d3",
   "metadata": {},
   "outputs": [
    {
     "name": "stdout",
     "output_type": "stream",
     "text": [
      "tensor([ 2.,  4.,  6.,  8., 10., 12., 14., 16., 18., 20.])\n"
     ]
    }
   ],
   "source": [
    "y_data = 2.*x_data\n",
    "print(y_data)"
   ]
  },
  {
   "cell_type": "code",
   "execution_count": 48,
   "id": "1f22427d-6594-41a7-b8e9-24a4eeb407dd",
   "metadata": {},
   "outputs": [
    {
     "name": "stdout",
     "output_type": "stream",
     "text": [
      "tensor(5., requires_grad=True)\n"
     ]
    }
   ],
   "source": []
  },
  {
   "cell_type": "code",
   "execution_count": 69,
   "id": "971ecca3-36c7-4b87-9c3b-22144bdbf94f",
   "metadata": {},
   "outputs": [
    {
     "name": "stdout",
     "output_type": "stream",
     "text": [
      "tensor(5., requires_grad=True)\n",
      "1)w.grad= tensor(28.)\n",
      "zero_\n",
      "1)w.grad= tensor(25.3867)\n",
      "zero_\n",
      "1)w.grad= tensor(23.0172)\n"
     ]
    }
   ],
   "source": [
    "w = torch.tensor(5.0, requires_grad=True)\n",
    "\n",
    "print(w)\n",
    "n_epochs = 100\n",
    "for epoch in range(n_epochs):\n",
    "    y_pred = w*x_data\n",
    "    \n",
    "    loss_val = ((y_pred - y_data)**2).mean()\n",
    "    \n",
    "\n",
    "    if w.grad is not None:\n",
    "        print('zero_')\n",
    "        w.grad.zero_()\n",
    "         \n",
    "    loss_val.backward()\n",
    "    print('1)w.grad=',w.grad)\n",
    "    with torch.no_grad():\n",
    "        w -= 0.01*w.grad\n",
    "    \n"
   ]
  },
  {
   "cell_type": "code",
   "execution_count": 75,
   "id": "6490582f-c0b5-4b8c-8fdc-88580ffa2a3b",
   "metadata": {},
   "outputs": [
    {
     "data": {
      "image/png": "[encoded data removed]",
      "text/plain": [
       "<Figure size 1000x600 with 1 Axes>"
      ]
     },
     "metadata": {},
     "output_type": "display_data"
    }
   ],
   "source": [
    "import torch\n",
    "import numpy as np\n",
    "import matplotlib.pyplot as plt\n",
    "\n",
    "# Assuming x_data and y_data need to be defined for the provided code to work.\n",
    "# Let's define some sample data that could represent a simple linear relationship.\n",
    "\n",
    "# Sample data\n",
    "x_data = torch.tensor([1.0, 2.0, 3.0])\n",
    "y_data = torch.tensor([2.0, 4.0, 6.0])\n",
    "\n",
    "# Initial weight\n",
    "w = torch.tensor(5.0, requires_grad=True)\n",
    "\n",
    "# Number of epochs\n",
    "n_epochs = 100\n",
    "\n",
    "# To store the loss values\n",
    "loss_values = []\n",
    "\n",
    "for epoch in range(n_epochs):\n",
    "    y_pred = w * x_data\n",
    "    loss_val = ((y_pred - y_data) ** 2).mean()\n",
    "    loss_values.append(w.item())\n",
    "\n",
    "    # Cleaning grad  before applying backward\n",
    "    if w.grad is not None:\n",
    "        w.grad.zero_()\n",
    "    \n",
    "    loss_val.backward()\n",
    "\n",
    "    # should not calculate grad of its own re-assignment\n",
    "    with torch.no_grad():\n",
    "        w -= 0.01 * w.grad\n",
    "\n",
    "# Plotting the loss as a function of the number of epochs\n",
    "plt.figure(figsize=(10, 6))\n",
    "plt.plot(loss_values, label='Loss Value')\n",
    "plt.xlabel('Epoch')\n",
    "plt.ylabel('Loss')\n",
    "plt.title('Loss as a Function of Number of Epochs')\n",
    "plt.legend()\n",
    "plt.grid(True)\n",
    "plt.show()\n"
   ]
  },
  {
   "cell_type": "code",
   "execution_count": 115,
   "id": "167807d9-9335-4ce7-9c65-f00bf020fd65",
   "metadata": {},
   "outputs": [
    {
     "name": "stdout",
     "output_type": "stream",
     "text": [
      "Linear(in_features=1, out_features=1, bias=True)\n"
     ]
    }
   ],
   "source": [
    "# using in built pytorch functions\n",
    "lin_model = torch.nn.Linear(1,1) # only one feature\n",
    "print(lin_model)"
   ]
  },
  {
   "cell_type": "code",
   "execution_count": 116,
   "id": "afabdea6-ec90-4050-b117-01e7a3b24a42",
   "metadata": {},
   "outputs": [
    {
     "name": "stdout",
     "output_type": "stream",
     "text": [
      "MSELoss()\n"
     ]
    }
   ],
   "source": [
    "lin_loss = torch.nn.MSELoss()\n",
    "print(lin_loss)"
   ]
  },
  {
   "cell_type": "code",
   "execution_count": 117,
   "id": "9abae5f9-d745-40c2-b0ea-1a19e90b62fc",
   "metadata": {},
   "outputs": [
    {
     "name": "stdout",
     "output_type": "stream",
     "text": [
      "SGD (\n",
      "Parameter Group 0\n",
      "    dampening: 0\n",
      "    differentiable: False\n",
      "    foreach: None\n",
      "    lr: 0.01\n",
      "    maximize: False\n",
      "    momentum: 0\n",
      "    nesterov: False\n",
      "    weight_decay: 0\n",
      ")\n"
     ]
    }
   ],
   "source": [
    "optimizer = torch.optim.SGD(lin_model.parameters(), lr=0.01)\n",
    "print(optimizer)"
   ]
  },
  {
   "cell_type": "code",
   "execution_count": 118,
   "id": "c29b0f49-aee5-484d-9668-4c89c5fe6296",
   "metadata": {},
   "outputs": [
    {
     "name": "stdout",
     "output_type": "stream",
     "text": [
      "Parameter containing:\n",
      "tensor([[0.3032]], requires_grad=True) Parameter containing:\n",
      "tensor([0.1678], requires_grad=True)\n"
     ]
    }
   ],
   "source": [
    "w,b = lin_model.parameters()\n",
    "print(w,b)"
   ]
  },
  {
   "cell_type": "code",
   "execution_count": 119,
   "id": "eb05e811-f0d2-43f3-9fbb-4d535e241150",
   "metadata": {},
   "outputs": [],
   "source": [
    "X = [1, 2, 3,4,5,6,7,8]\n",
    "Y = [2, 4, 6,8,10,12,14,16]\n",
    "\n",
    "# Convert to 2D tensors\n",
    "X_tensor = torch.tensor(X).view(-1, 1).float()  # Convert to a column vector and ensure it's a float tensor\n",
    "Y_tensor = torch.tensor(Y).view(-1, 1).float()  # Convert to a column vector and ensure it's a float tensor"
   ]
  },
  {
   "cell_type": "code",
   "execution_count": 121,
   "id": "64433f80-b190-45b3-bf67-941364996a31",
   "metadata": {},
   "outputs": [
    {
     "data": {
      "image/png": "[encoded data removed]",
      "text/plain": [
       "<Figure size 1000x600 with 1 Axes>"
      ]
     },
     "metadata": {},
     "output_type": "display_data"
    }
   ],
   "source": [
    "weight_vals = []\n",
    "n_epochs = 100\n",
    "for epoch in range(n_epochs):\n",
    "    optimizer.zero_grad()\n",
    "\n",
    "    y_pred = lin_model(X_tensor)\n",
    "\n",
    "    l = lin_loss(Y_tensor, y_pred)\n",
    "    l.backward()\n",
    "\n",
    "    optimizer.step()\n",
    "\n",
    "    w,b = lin_model.parameters()\n",
    "    # print(w)\n",
    "    weight_vals.append(w.item())\n",
    "    \n",
    "# Plotting the loss as a function of the number of epochs\n",
    "plt.figure(figsize=(10, 6))\n",
    "plt.plot(weight_vals, label='Loss Value')\n",
    "plt.xlabel('Epoch')\n",
    "plt.ylabel('Loss')\n",
    "plt.title('Loss as a Function of Number of Epochs')\n",
    "plt.legend()\n",
    "plt.grid(True)\n",
    "plt.show()\n"
   ]
  },
  {
   "cell_type": "code",
   "execution_count": 87,
   "id": "90a2c39e-b174-4d9d-aae3-b0c7e5f2887d",
   "metadata": {},
   "outputs": [
    {
     "data": {
      "text/plain": [
       "torch.Size([3])"
      ]
     },
     "execution_count": 87,
     "metadata": {},
     "output_type": "execute_result"
    }
   ],
   "source": [
    "\n",
    "# Given data\n",
    "X = [1, 2, 3]\n",
    "Y = [2, 4, 6]\n",
    "\n",
    "# Convert to 2D tensors\n",
    "X_tensor = torch.tensor(X).view(-1, 1).float()  # Convert to a column vector and ensure it's a float tensor\n",
    "Y_tensor = torch.tensor(Y).view(-1, 1).float()  # Convert to a column vector and ensure it's a float tensor\n",
    "\n",
    "torch.tensor(X).shape"
   ]
  },
  {
   "cell_type": "code",
   "execution_count": 122,
   "id": "dc26139f-119c-4170-bac4-6423dfc05243",
   "metadata": {},
   "outputs": [
    {
     "data": {
      "text/plain": [
       "1.9636269807815552"
      ]
     },
     "execution_count": 122,
     "metadata": {},
     "output_type": "execute_result"
    }
   ],
   "source": [
    "weight_vals[-1]"
   ]
  },
  {
   "cell_type": "code",
   "execution_count": 4,
   "id": "32b4068e-ce72-4a02-8a1c-dc40d712ec81",
   "metadata": {},
   "outputs": [],
   "source": [
    "import torch\n",
    "import torch.nn as nn\n",
    "import torchvision\n",
    "import torchvision.transforms as transforms\n",
    "import matplotlib.pyplot as plt"
   ]
  },
  {
   "cell_type": "code",
   "execution_count": 5,
   "id": "a830c5bf-7d29-44ec-b9b3-005735fed782",
   "metadata": {},
   "outputs": [
    {
     "name": "stdout",
     "output_type": "stream",
     "text": [
      "Downloading http://yann.lecun.com/exdb/mnist/train-images-idx3-ubyte.gz\n",
      "Downloading http://yann.lecun.com/exdb/mnist/train-images-idx3-ubyte.gz to ./data/MNIST/raw/train-images-idx3-ubyte.gz\n"
     ]
    },
    {
     "name": "stderr",
     "output_type": "stream",
     "text": [
      "100%|██████████████████████████████████████████████████████████████████████████████████████████████████████████████████████| 9912422/9912422 [00:08<00:00, 1224734.88it/s]\n"
     ]
    },
    {
     "name": "stdout",
     "output_type": "stream",
     "text": [
      "Extracting ./data/MNIST/raw/train-images-idx3-ubyte.gz to ./data/MNIST/raw\n",
      "\n",
      "Downloading http://yann.lecun.com/exdb/mnist/train-labels-idx1-ubyte.gz\n",
      "Downloading http://yann.lecun.com/exdb/mnist/train-labels-idx1-ubyte.gz to ./data/MNIST/raw/train-labels-idx1-ubyte.gz\n"
     ]
    },
    {
     "name": "stderr",
     "output_type": "stream",
     "text": [
      "100%|██████████████████████████████████████████████████████████████████████████████████████████████████████████████████████████| 28881/28881 [00:00<00:00, 1218951.00it/s]\n"
     ]
    },
    {
     "name": "stdout",
     "output_type": "stream",
     "text": [
      "Extracting ./data/MNIST/raw/train-labels-idx1-ubyte.gz to ./data/MNIST/raw\n",
      "\n",
      "Downloading http://yann.lecun.com/exdb/mnist/t10k-images-idx3-ubyte.gz\n",
      "Downloading http://yann.lecun.com/exdb/mnist/t10k-images-idx3-ubyte.gz to ./data/MNIST/raw/t10k-images-idx3-ubyte.gz\n"
     ]
    },
    {
     "name": "stderr",
     "output_type": "stream",
     "text": [
      "100%|██████████████████████████████████████████████████████████████████████████████████████████████████████████████████████| 1648877/1648877 [00:01<00:00, 1158609.03it/s]\n"
     ]
    },
    {
     "name": "stdout",
     "output_type": "stream",
     "text": [
      "Extracting ./data/MNIST/raw/t10k-images-idx3-ubyte.gz to ./data/MNIST/raw\n",
      "\n",
      "Downloading http://yann.lecun.com/exdb/mnist/t10k-labels-idx1-ubyte.gz\n",
      "Downloading http://yann.lecun.com/exdb/mnist/t10k-labels-idx1-ubyte.gz to ./data/MNIST/raw/t10k-labels-idx1-ubyte.gz\n"
     ]
    },
    {
     "name": "stderr",
     "output_type": "stream",
     "text": [
      "100%|████████████████████████████████████████████████████████████████████████████████████████████████████████████████████████████| 4542/4542 [00:00<00:00, 3603959.28it/s]"
     ]
    },
    {
     "name": "stdout",
     "output_type": "stream",
     "text": [
      "Extracting ./data/MNIST/raw/t10k-labels-idx1-ubyte.gz to ./data/MNIST/raw\n",
      "\n"
     ]
    },
    {
     "name": "stderr",
     "output_type": "stream",
     "text": [
      "\n"
     ]
    }
   ],
   "source": [
    "# MNIST dataset\n",
    "train_dataset = torchvision.datasets.MNIST(root='./data', train=True, transform=transforms.ToTensor(), download=True)\n",
    "# transform is used to convert from PIL image fmt to tensor\n",
    "test_dataset = torchvision.datasets.MNIST(root='./data', train=False, transform=transforms.ToTensor())"
   ]
  },
  {
   "cell_type": "code",
   "execution_count": 13,
   "id": "2830d347-588d-4907-bf27-b2e658395bbc",
   "metadata": {},
   "outputs": [],
   "source": [
    "train_loader = torch.utils.data.DataLoader(dataset = train_dataset, batch_size = 50, shuffle = True)\n",
    "test_loader = torch.utils.data.DataLoader(dataset = test_dataset, batch_size = 50, shuffle = False)"
   ]
  },
  {
   "cell_type": "code",
   "execution_count": 14,
   "id": "1ee7edcf-3e4e-46d6-9cb6-eb719585455d",
   "metadata": {},
   "outputs": [
    {
     "name": "stdout",
     "output_type": "stream",
     "text": [
      "<torch.utils.data.dataloader._SingleProcessDataLoaderIter object at 0x74ac34dbb340>\n"
     ]
    }
   ],
   "source": [
    "examples = iter(test_loader)\n",
    "print(examples)"
   ]
  },
  {
   "cell_type": "code",
   "execution_count": 18,
   "id": "6f0c1d34-c1ad-4788-9597-ee95f2f25f17",
   "metadata": {},
   "outputs": [],
   "source": [
    "example_data, example_target = next(examples)"
   ]
  },
  {
   "cell_type": "code",
   "execution_count": 31,
   "id": "f5ac1dfe-8676-4bf4-82e6-3d79ba81c658",
   "metadata": {},
   "outputs": [
    {
     "data": {
      "text/plain": [
       "torch.Size([50])"
      ]
     },
     "execution_count": 31,
     "metadata": {},
     "output_type": "execute_result"
    }
   ],
   "source": [
    "example_target.shape"
   ]
  },
  {
   "cell_type": "code",
   "execution_count": 30,
   "id": "25f42739-b98f-483a-bc24-1d220603977a",
   "metadata": {},
   "outputs": [
    {
     "data": {
      "image/png": "[encoded data removed]",
      "text/plain": [
       "<Figure size 640x480 with 6 Axes>"
      ]
     },
     "metadata": {},
     "output_type": "display_data"
    }
   ],
   "source": [
    "for i in range(6):\n",
    "    plt.subplot(2,3, i+1)\n",
    "    plt.imshow(example_data[i].squeeze())\n",
    "plt.show()"
   ]
  },
  {
   "cell_type": "code",
   "execution_count": 76,
   "id": "3cc3e080-cfc6-4d6a-8ee1-e9e6835e2625",
   "metadata": {},
   "outputs": [],
   "source": [
    "class NeuralNet(nn.Module):\n",
    "    def __init__(self, input_size, hidden_size, output_size):\n",
    "        super(NeuralNet, self).__init__()\n",
    "        self.L1 = nn.Linear(input_size, hidden_size)\n",
    "        self.L2 = nn.ReLU()\n",
    "        self.L3 = nn.Linear(hidden_size, output_size)\n",
    "\n",
    "    def forward(self, x):\n",
    "        out = self.L1(x)\n",
    "        out1 = self.L2(out)\n",
    "        out2 = self.L3(out1)\n",
    "\n",
    "        return out2"
   ]
  },
  {
   "cell_type": "code",
   "execution_count": 77,
   "id": "34d07120-8e8f-4b81-982d-b1eedf7540dd",
   "metadata": {},
   "outputs": [],
   "source": [
    "device = torch.device('cuda')"
   ]
  },
  {
   "cell_type": "code",
   "execution_count": 78,
   "id": "878ed927-654a-4c66-b270-98dd4157572a",
   "metadata": {},
   "outputs": [],
   "source": [
    "input_size = 784\n",
    "hidden_size = 500\n",
    "output_size = 10\n",
    "\n",
    "model = NeuralNet(input_size, hidden_size, output_size).to(device)"
   ]
  },
  {
   "cell_type": "code",
   "execution_count": 79,
   "id": "699c3d3f-50c1-4251-b38a-29ae66df50ab",
   "metadata": {},
   "outputs": [],
   "source": [
    "# loss\n",
    "criterion = nn.CrossEntropyLoss()\n",
    "learning_rate = 0.001\n",
    "optimizer = torch.optim.Adam(model.parameters(), lr = learning_rate)"
   ]
  },
  {
   "cell_type": "code",
   "execution_count": 80,
   "id": "33646396-a9f5-48ea-91f9-a459d734d03d",
   "metadata": {},
   "outputs": [
    {
     "name": "stdout",
     "output_type": "stream",
     "text": [
      "Epoch number =  1  loss =  0.06178934499621391\n",
      "Epoch number =  2  loss =  0.030705727636814117\n",
      "Epoch number =  3  loss =  0.011953250505030155\n",
      "Epoch number =  4  loss =  0.019725175574421883\n",
      "Epoch number =  5  loss =  0.04732707515358925\n",
      "Epoch number =  6  loss =  0.017246969044208527\n",
      "Epoch number =  7  loss =  0.0014206045307219028\n",
      "Epoch number =  8  loss =  0.011036522686481476\n",
      "Epoch number =  9  loss =  0.016948621720075607\n",
      "Epoch number =  10  loss =  0.002053510630503297\n",
      "Epoch number =  11  loss =  0.020359961315989494\n",
      "Epoch number =  12  loss =  0.010563619434833527\n",
      "Epoch number =  13  loss =  0.014293361455202103\n",
      "Epoch number =  14  loss =  0.00011851562157971784\n",
      "Epoch number =  15  loss =  0.0007176907383836806\n",
      "Epoch number =  16  loss =  0.0006392955547198653\n",
      "Epoch number =  17  loss =  0.002995196497067809\n",
      "Epoch number =  18  loss =  0.0012254405301064253\n",
      "Epoch number =  19  loss =  1.5037012417451479e-05\n",
      "Epoch number =  20  loss =  0.0006653431337326765\n",
      "Epoch number =  21  loss =  1.1085250662290491e-05\n",
      "Epoch number =  22  loss =  0.0006126713124103844\n",
      "Epoch number =  23  loss =  0.000109301989141386\n",
      "Epoch number =  24  loss =  0.006283499766141176\n",
      "Epoch number =  25  loss =  5.441518806037493e-05\n",
      "Epoch number =  26  loss =  0.0003187826951034367\n",
      "Epoch number =  27  loss =  5.418125510914251e-05\n",
      "Epoch number =  28  loss =  0.006260950583964586\n",
      "Epoch number =  29  loss =  0.000349680136423558\n",
      "Epoch number =  30  loss =  0.0001706748444121331\n",
      "Epoch number =  31  loss =  0.0009328400483354926\n",
      "Epoch number =  32  loss =  9.696505003375933e-05\n",
      "Epoch number =  33  loss =  0.0001072289451258257\n",
      "Epoch number =  34  loss =  2.760369716270361e-05\n",
      "Epoch number =  35  loss =  2.8036781714035897e-06\n",
      "Epoch number =  36  loss =  0.0011036171345040202\n",
      "Epoch number =  37  loss =  4.629780505638337e-06\n",
      "Epoch number =  38  loss =  3.7420817534439266e-05\n",
      "Epoch number =  39  loss =  1.5043888197396882e-06\n",
      "Epoch number =  40  loss =  0.00026926540886051953\n",
      "Epoch number =  41  loss =  1.9788683403021423e-07\n",
      "Epoch number =  42  loss =  0.00029479723889380693\n",
      "Epoch number =  43  loss =  8.590234210714698e-05\n",
      "Epoch number =  44  loss =  3.242475656861643e-07\n",
      "Epoch number =  45  loss =  9.059900207830651e-08\n",
      "Epoch number =  46  loss =  0.00024019186093937606\n",
      "Epoch number =  47  loss =  2.336491178311917e-07\n",
      "Epoch number =  48  loss =  9.53674206272126e-09\n",
      "Epoch number =  49  loss =  0.00014063407434150577\n",
      "Epoch number =  50  loss =  1.6236087958532153e-06\n"
     ]
    }
   ],
   "source": [
    "n_epochs = 50\n",
    "all_loss = []\n",
    "for epoch in range(n_epochs):\n",
    "    for i, (images, labels) in enumerate(train_loader):\n",
    "        # print(i)\n",
    "        # print(images.shape)\n",
    "        # print(labels)\n",
    "        # break\n",
    "        images_reshaped = images.reshape(-1, 28*28).to(device)\n",
    "        labels = labels.to(device)\n",
    "\n",
    "        outputs = model.forward(images_reshaped)\n",
    "        loss = criterion(outputs, labels)\n",
    "        # print(loss)\n",
    "        \n",
    "\n",
    "        # back prop\n",
    "        loss.backward()\n",
    "        optimizer.step()\n",
    "        optimizer.zero_grad()\n",
    "        \n",
    "    print('Epoch number = ', epoch + 1, ' loss = ', loss.item())\n",
    "    all_loss.append()"
   ]
  },
  {
   "cell_type": "code",
   "execution_count": 81,
   "id": "0d89c7d4-dfe4-42be-913f-a344fbd2f664",
   "metadata": {},
   "outputs": [
    {
     "data": {
      "image/png": "[encoded data removed]",
      "text/plain": [
       "<Figure size 1000x600 with 1 Axes>"
      ]
     },
     "metadata": {},
     "output_type": "display_data"
    }
   ],
   "source": [
    "plt.figure(figsize=(10, 6))\n",
    "plt.plot(all_loss, label='Training Loss', color='blue')\n",
    "plt.title('Training Loss Over Epochs')\n",
    "plt.xlabel('Epoch')\n",
    "plt.ylabel('Loss')\n",
    "plt.legend()\n",
    "plt.grid(True)\n",
    "plt.show()\n"
   ]
  },
  {
   "cell_type": "code",
   "execution_count": 92,
   "id": "427ebfea-8827-4e09-91f7-80140996a77a",
   "metadata": {},
   "outputs": [
    {
     "name": "stdout",
     "output_type": "stream",
     "text": [
      "97.95  accuracy\n"
     ]
    }
   ],
   "source": [
    "# testing dataset\n",
    "with torch.no_grad():\n",
    "    n_correct = 0\n",
    "    n_samples = len(test_loader.dataset)\n",
    "\n",
    "    for images, labels in test_loader:\n",
    "        images_reshaped = images.reshape(-1, 28*28).to(device)\n",
    "        labels = labels.to(device)\n",
    "\n",
    "        outputs = model.forward(images_reshaped)\n",
    "\n",
    "        _, predicted = torch.max(outputs,1)\n",
    "        # print(predicted)\n",
    "        n_correct += (predicted == labels).sum().item()\n",
    "    print(100*n_correct/n_samples , ' accuracy')"
   ]
  }
 ],
 "metadata": {
  "kernelspec": {
   "display_name": "Python 3 (ipykernel)",
   "language": "python",
   "name": "python3"
  },
  "language_info": {
   "codemirror_mode": {
    "name": "ipython",
    "version": 3
   },
   "file_extension": ".py",
   "mimetype": "text/x-python",
   "name": "python",
   "nbconvert_exporter": "python",
   "pygments_lexer": "ipython3",
   "version": "3.10.12"
  }
 },
 "nbformat": 4,
 "nbformat_minor": 5
}
