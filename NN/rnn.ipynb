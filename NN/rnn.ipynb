{
 "cells": [
  {
   "cell_type": "code",
   "execution_count": 123,
   "id": "d1d657b3-d6ab-4ac3-9be1-95ec906a4c59",
   "metadata": {},
   "outputs": [],
   "source": [
    "import torch\n",
    "import torch.nn as nn\n",
    "import torch.nn.functional as F"
   ]
  },
  {
   "cell_type": "code",
   "execution_count": 282,
   "id": "18004fb6-3853-4752-8202-f7d8f5aeff0f",
   "metadata": {},
   "outputs": [],
   "source": [
    "device = torch.device('cuda')"
   ]
  },
  {
   "cell_type": "code",
   "execution_count": 283,
   "id": "73c2dbd8-b129-41ab-af37-5f50f825aa5d",
   "metadata": {},
   "outputs": [],
   "source": [
    "words = open('./data/names.txt', 'r').read().splitlines()"
   ]
  },
  {
   "cell_type": "code",
   "execution_count": 284,
   "id": "22606e27-ac6a-4f8a-aa5c-83bd5bb27d89",
   "metadata": {},
   "outputs": [],
   "source": [
    "def give_index(c):\n",
    "  if c == '<S>':\n",
    "    return 26\n",
    "  elif c == '<E>':\n",
    "    return 27\n",
    "  else:\n",
    "    return ord(c) - 97"
   ]
  },
  {
   "cell_type": "code",
   "execution_count": 319,
   "id": "0a9ea622-a3cb-4c4d-8868-a098675a6aba",
   "metadata": {},
   "outputs": [],
   "source": [
    "class RNNetwork(nn.Module):\n",
    "    def __init__(self, input_size, hidden_size, output_size):\n",
    "        super(RNNetwork, self).__init__()\n",
    "        self.U = torch.nn.Parameter(torch.randn(hidden_size, input_size) * torch.sqrt(torch.tensor(2. / input_size)))\n",
    "        self.W = torch.nn.Parameter(torch.randn(hidden_size, hidden_size) * torch.sqrt(torch.tensor(2. / hidden_size)))\n",
    "        self.V = torch.nn.Parameter(torch.randn(output_size, hidden_size) * torch.sqrt(torch.tensor(2. / hidden_size)))\n",
    "        self.b1 = torch.nn.Parameter(torch.randn(hidden_size))\n",
    "        self.b2 = torch.nn.Parameter(torch.randn(output_size))\n",
    "        \n",
    "    def forward(self, x):\n",
    "        x = x.to(device)\n",
    "        prev_h = torch.randn(self.W.shape[1]).to(device)\n",
    "        for inp in x:\n",
    "            inp = inp.unsqueeze(0) # to make it 1 x 1 from 0D\n",
    "            h_t = torch.tanh(self.b1 + self.W @ prev_h + self.U @ inp)\n",
    "            y = self.V @ h_t + self.b2\n",
    "            \n",
    "        return y"
   ]
  },
  {
   "cell_type": "code",
   "execution_count": 320,
   "id": "d52ae229-fbab-4e05-bf79-8e7b0409ad90",
   "metadata": {},
   "outputs": [
    {
     "data": {
      "text/plain": [
       "tensor([1.8776, 0.2700])"
      ]
     },
     "execution_count": 320,
     "metadata": {},
     "output_type": "execute_result"
    }
   ],
   "source": [
    "torch.randn(2)"
   ]
  },
  {
   "cell_type": "code",
   "execution_count": 321,
   "id": "002e26d4-c2d4-4792-aa9c-99882f5c0c6a",
   "metadata": {},
   "outputs": [],
   "source": [
    "model = RNNetwork(1, 100, 28)\n",
    "model = model.to(device)"
   ]
  },
  {
   "cell_type": "code",
   "execution_count": 322,
   "id": "276d3fc1-888d-4330-93df-0d6ff9cdfa75",
   "metadata": {},
   "outputs": [],
   "source": [
    "x = []\n",
    "y = []\n",
    "context_len = 3 # number of chars u want to use to predict next char\n",
    "for word in words:\n",
    "    chs = ['<S>']*context_len + list(word) + ['<E>']\n",
    "    for i1,i2,i3,out in zip(chs, chs[1:], chs[2:], chs[3:]):\n",
    "        x.append([ give_index(i1),give_index(i2),give_index(i3)  ])\n",
    "        y.append(give_index(out))\n",
    "        # print(f\"use {i1, i2, i3} to predict {out}\")"
   ]
  },
  {
   "cell_type": "code",
   "execution_count": 323,
   "id": "bb86a3b1-14b9-48db-b81c-158ce8934f42",
   "metadata": {},
   "outputs": [
    {
     "data": {
      "text/plain": [
       "([26, 26, 26], 4)"
      ]
     },
     "execution_count": 323,
     "metadata": {},
     "output_type": "execute_result"
    }
   ],
   "source": [
    "x[0], y[0]"
   ]
  },
  {
   "cell_type": "code",
   "execution_count": 324,
   "id": "b1e8091c-086c-425f-a66c-eecdf93d0940",
   "metadata": {},
   "outputs": [
    {
     "name": "stdout",
     "output_type": "stream",
     "text": [
      "228000 228000\n"
     ]
    }
   ],
   "source": [
    "x = x[:len(x)- 146]\n",
    "y = y[:len(y) - 146]\n",
    "\n",
    "print(len(x), len(y))"
   ]
  },
  {
   "cell_type": "code",
   "execution_count": 325,
   "id": "18573cf5-819f-41af-9ae4-e654b0fafd43",
   "metadata": {},
   "outputs": [
    {
     "data": {
      "text/plain": [
       "4560"
      ]
     },
     "execution_count": 325,
     "metadata": {},
     "output_type": "execute_result"
    }
   ],
   "source": [
    "int(len(x)/50)"
   ]
  },
  {
   "cell_type": "code",
   "execution_count": 326,
   "id": "d6da3542-74e7-43d4-b8d0-e82a48cf5d06",
   "metadata": {},
   "outputs": [],
   "source": [
    "import matplotlib.pyplot as plt\n",
    "from IPython.display import clear_output\n",
    "\n",
    "def live_plot(data_dict, figsize=(7,5), title=''):\n",
    "    clear_output(wait=True)\n",
    "    plt.figure(figsize=figsize)\n",
    "    for label, data in data_dict.items():\n",
    "        plt.plot(data, label=label)\n",
    "    plt.title(title)\n",
    "    plt.grid(True)\n",
    "    plt.xlabel('batch')\n",
    "    plt.legend(loc='center left') # Change the location based on your preference\n",
    "    plt.show()"
   ]
  },
  {
   "cell_type": "code",
   "execution_count": 327,
   "id": "91a87c81-4254-476f-9f6a-6ce23a3bd308",
   "metadata": {},
   "outputs": [],
   "source": [
    "learning_rate = 0.001"
   ]
  },
  {
   "cell_type": "code",
   "execution_count": 328,
   "id": "d5874639-bec6-40c4-a8c7-4c5b87ccab08",
   "metadata": {},
   "outputs": [],
   "source": [
    "# loss and optimizers\n",
    "criterion = nn.CrossEntropyLoss()"
   ]
  },
  {
   "cell_type": "code",
   "execution_count": null,
   "id": "8cf4404c-bf08-463c-b8a5-49033ebc5af4",
   "metadata": {},
   "outputs": [],
   "source": [
    "\n"
   ]
  },
  {
   "cell_type": "code",
   "execution_count": 329,
   "id": "a5696114-9022-44c1-90c5-621d17959d20",
   "metadata": {},
   "outputs": [
    {
     "data": {
      "image/png": "[encoded data removed]",
      "text/plain": [
       "<Figure size 700x500 with 1 Axes>"
      ]
     },
     "metadata": {},
     "output_type": "display_data"
    },
    {
     "ename": "IndexError",
     "evalue": "list index out of range",
     "output_type": "error",
     "traceback": [
      "\u001b[0;31m---------------------------------------------------------------------------\u001b[0m",
      "\u001b[0;31mIndexError\u001b[0m                                Traceback (most recent call last)",
      "Cell \u001b[0;32mIn[329], line 10\u001b[0m\n\u001b[1;32m      8\u001b[0m mean_loss \u001b[38;5;241m=\u001b[39m \u001b[38;5;241m0\u001b[39m\n\u001b[1;32m      9\u001b[0m \u001b[38;5;28;01mfor\u001b[39;00m eg \u001b[38;5;129;01min\u001b[39;00m \u001b[38;5;28mrange\u001b[39m(b_start, b_start\u001b[38;5;241m+\u001b[39mbatch_size):\n\u001b[0;32m---> 10\u001b[0m     input_network \u001b[38;5;241m=\u001b[39m torch\u001b[38;5;241m.\u001b[39mtensor(\u001b[43mx\u001b[49m\u001b[43m[\u001b[49m\u001b[43meg\u001b[49m\u001b[43m]\u001b[49m, dtype\u001b[38;5;241m=\u001b[39mtorch\u001b[38;5;241m.\u001b[39mfloat32)\u001b[38;5;241m.\u001b[39mto(device)\n\u001b[1;32m     11\u001b[0m     labels \u001b[38;5;241m=\u001b[39m torch\u001b[38;5;241m.\u001b[39mtensor(y[eg])\u001b[38;5;241m.\u001b[39mto(device)\n\u001b[1;32m     13\u001b[0m     outputs \u001b[38;5;241m=\u001b[39m model\u001b[38;5;241m.\u001b[39mforward(input_network)\n",
      "\u001b[0;31mIndexError\u001b[0m: list index out of range"
     ]
    }
   ],
   "source": [
    "losses = {'cross_entropy': [] }\n",
    "batch_size = 100\n",
    "num_batches = int(len(x)/batch_size)\n",
    "\n",
    "for epoch in range(1):\n",
    "    # for i in range(len(x)):\n",
    "    for b_start in range(0, 250000, batch_size):\n",
    "        mean_loss = 0\n",
    "        for eg in range(b_start, b_start+batch_size):\n",
    "            input_network = torch.tensor(x[eg], dtype=torch.float32).to(device)\n",
    "            labels = torch.tensor(y[eg]).to(device)\n",
    "            \n",
    "            outputs = model.forward(input_network)\n",
    "            mean_loss += criterion(outputs, labels)\n",
    "\n",
    "        mean_loss /= float(batch_size)\n",
    "        mean_loss.backward()\n",
    "        with torch.no_grad():\n",
    "            for name, param in model.named_parameters():\n",
    "                if name != 'h':\n",
    "                    param -= learning_rate*param.grad\n",
    "\n",
    "            for _,param in model.named_parameters():\n",
    "                if param.grad is not None:\n",
    "                    param.grad.zero_()\n",
    "        \n",
    "        losses['cross_entropy'].append(mean_loss.item())\n",
    "        live_plot(losses, title='Training Loss per batch')\n",
    "\n",
    "        # check for saturation\n",
    "        if len(losses['cross_entropy']) > 10:\n",
    "            arr = losses['cross_entropy'][-10:]\n",
    "            if max(arr) - min(arr) < 1e-3:\n",
    "                break\n",
    "                        \n",
    "        "
   ]
  },
  {
   "cell_type": "code",
   "execution_count": 331,
   "id": "9f1dd5ee-e42a-4ba7-81f9-1253ecb74070",
   "metadata": {},
   "outputs": [
    {
     "data": {
      "text/plain": [
       "3.0212130546569824"
      ]
     },
     "execution_count": 331,
     "metadata": {},
     "output_type": "execute_result"
    }
   ],
   "source": [
    "losses['cross_entropy'][-1]"
   ]
  },
  {
   "cell_type": "code",
   "execution_count": 332,
   "id": "cfb51cd8-0bc2-4043-912e-13a73a3ea1a2",
   "metadata": {},
   "outputs": [],
   "source": [
    "def give_char(num):\n",
    "    if num == 26:\n",
    "        c = '<S>'\n",
    "    elif num == 27:\n",
    "        c = '<E>'\n",
    "    else:    \n",
    "        c = chr(num + 97)\n",
    "    \n",
    "    return c"
   ]
  },
  {
   "cell_type": "code",
   "execution_count": 358,
   "id": "75ea6b84-dda4-44e8-ba77-e05ea350cef4",
   "metadata": {},
   "outputs": [
    {
     "name": "stdout",
     "output_type": "stream",
     "text": [
      "<S><S><S>kar<E>\n"
     ]
    }
   ],
   "source": [
    "for i in range(1):\n",
    "    name = [26,26,26,10]\n",
    "    while name[-1] != 27:\n",
    "        with torch.no_grad():\n",
    "            output = model.forward(torch.tensor(name[-3:], dtype=torch.float32).to(device))\n",
    "            softmax_output = F.softmax(output, dim=0)\n",
    "            char_index = torch.argmax(softmax_output)\n",
    "            name.append(char_index.item())\n",
    "    name_str = ''\n",
    "    for n in name:\n",
    "        name_str += give_char(n)\n",
    "    print(name_str)\n",
    "    "
   ]
  }
 ],
 "metadata": {
  "kernelspec": {
   "display_name": "Python 3 (ipykernel)",
   "language": "python",
   "name": "python3"
  },
  "language_info": {
   "codemirror_mode": {
    "name": "ipython",
    "version": 3
   },
   "file_extension": ".py",
   "mimetype": "text/x-python",
   "name": "python",
   "nbconvert_exporter": "python",
   "pygments_lexer": "ipython3",
   "version": "3.10.12"
  }
 },
 "nbformat": 4,
 "nbformat_minor": 5
}
