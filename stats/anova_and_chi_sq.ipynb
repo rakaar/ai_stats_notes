{
 "cells": [
  {
   "cell_type": "code",
   "execution_count": 45,
   "metadata": {},
   "outputs": [],
   "source": [
    "import numpy as np\n",
    "from scipy.stats import f, chi2_contingency, chi2\n",
    "\n",
    "import pandas as pd\n",
    "import statsmodels.api as sm\n",
    "from statsmodels.formula.api import ols\n"
   ]
  },
  {
   "cell_type": "markdown",
   "metadata": {},
   "source": [
    "# ANOVA: 1 - way"
   ]
  },
  {
   "cell_type": "code",
   "execution_count": 11,
   "metadata": {},
   "outputs": [],
   "source": [
    "n_groups = 3\n",
    "group1 = np.random.normal(loc=60, scale=10, size=30)  # Group 1 scores\n",
    "group2 = np.random.normal(loc=70, scale=10, size=30)  # Group 2 scores\n",
    "group3 = np.random.normal(loc=65, scale=10, size=30)  # Group 3 scores"
   ]
  },
  {
   "cell_type": "code",
   "execution_count": 12,
   "metadata": {},
   "outputs": [],
   "source": [
    "SSW_g1 = np.sum((np.mean(group1) - group1)**2)\n",
    "SSW_g2 = np.sum((np.mean(group2) - group2)**2)\n",
    "SSW_g3 = np.sum((np.mean(group3) - group3)**2)\n",
    "\n",
    "SSW = SSW_g1 + SSW_g2 + SSW_g3"
   ]
  },
  {
   "cell_type": "code",
   "execution_count": 13,
   "metadata": {},
   "outputs": [],
   "source": [
    "mean_all_groups = (np.mean(group1) + np.mean(group2) + np.mean(group3))/3\n",
    "SSB = len(group1)*(np.mean(group1) - mean_all_groups)**2 + len(group2)*(np.mean(group2) - mean_all_groups)**2 + len(group3)*(np.mean(group3) - mean_all_groups)**2\n"
   ]
  },
  {
   "cell_type": "code",
   "execution_count": 22,
   "metadata": {},
   "outputs": [],
   "source": [
    "n_groups = 3\n",
    "dof_between = n_groups - 1\n",
    "MSB = SSB/dof_between"
   ]
  },
  {
   "cell_type": "code",
   "execution_count": 23,
   "metadata": {},
   "outputs": [],
   "source": [
    "n_total = len(group1) + len(group2) + len(group3)\n",
    "dof_within = n_total - n_groups\n",
    "MSW = SSW/dof_within"
   ]
  },
  {
   "cell_type": "code",
   "execution_count": 28,
   "metadata": {},
   "outputs": [
    {
     "name": "stdout",
     "output_type": "stream",
     "text": [
      "5.801765858038019\n"
     ]
    }
   ],
   "source": [
    "F_stat = MSB/MSW\n",
    "print(F_stat)"
   ]
  },
  {
   "cell_type": "code",
   "execution_count": 25,
   "metadata": {},
   "outputs": [
    {
     "name": "stdout",
     "output_type": "stream",
     "text": [
      "0.004312856641228354\n"
     ]
    }
   ],
   "source": [
    "p_value = f.sf(F_stat, dof_between, dof_within)\n",
    "print(p_value)"
   ]
  },
  {
   "cell_type": "code",
   "execution_count": 27,
   "metadata": {},
   "outputs": [
    {
     "name": "stdout",
     "output_type": "stream",
     "text": [
      "            df        sum_sq     mean_sq         F    PR(>F)\n",
      "Group      2.0   1461.365846  730.682923  5.801766  0.004313\n",
      "Residual  87.0  10956.907924  125.941470       NaN       NaN\n"
     ]
    }
   ],
   "source": [
    "# Confirm with existing library\n",
    "data = pd.DataFrame({\n",
    "    'Score': np.concatenate([group1, group2, group3]),\n",
    "    'Group': ['Group 1']*30 + ['Group 2']*30 + ['Group 3']*30\n",
    "})\n",
    "\n",
    "\n",
    "model = ols('Score ~ Group', data=data).fit()\n",
    "\n",
    "anova_results = sm.stats.anova_lm(model, typ=1)  # Type I SS\n",
    "\n",
    "# Display the ANOVA table\n",
    "print(anova_results)\n"
   ]
  },
  {
   "cell_type": "markdown",
   "metadata": {},
   "source": [
    "# Chi-Square Test of Independence"
   ]
  },
  {
   "cell_type": "code",
   "execution_count": 70,
   "metadata": {},
   "outputs": [
    {
     "data": {
      "text/plain": [
       "array([[83., 69.],\n",
       "       [13., 24.]])"
      ]
     },
     "execution_count": 70,
     "metadata": {},
     "output_type": "execute_result"
    }
   ],
   "source": [
    "data = np.random.randint(10, 100, size=(2, 2))\n",
    "\n",
    "data = data.astype(float)\n",
    "data"
   ]
  },
  {
   "cell_type": "code",
   "execution_count": 71,
   "metadata": {},
   "outputs": [],
   "source": [
    "# expected if independent at P(R, C) = P(R) * P(C) * all_sum = row_total/all_sum * col_total/all_sum * all_sum = row_total*col_total/all_sum\n",
    "expected_if_indep = np.zeros((2,2))\n",
    "for i in range(2):\n",
    "    for j in range(2):\n",
    "        expected_if_indep[i,j] = (np.sum(data[i,:]) * np.sum(data[:,j]) )/np.sum(data)"
   ]
  },
  {
   "cell_type": "code",
   "execution_count": 72,
   "metadata": {},
   "outputs": [
    {
     "data": {
      "text/plain": [
       "array([[77.20634921, 74.79365079],\n",
       "       [18.79365079, 18.20634921]])"
      ]
     },
     "execution_count": 72,
     "metadata": {},
     "output_type": "execute_result"
    }
   ],
   "source": [
    "expected_if_indep"
   ]
  },
  {
   "cell_type": "code",
   "execution_count": 73,
   "metadata": {},
   "outputs": [],
   "source": [
    "# To calculate the chi sq statistic, see the diff btn obv and independent data, normalized by independent data\n",
    "diff_sq = (data - expected_if_indep)**2\n",
    "diff_sq_norm = diff_sq/expected_if_indep"
   ]
  },
  {
   "cell_type": "code",
   "execution_count": 74,
   "metadata": {},
   "outputs": [
    {
     "data": {
      "text/plain": [
       "4.513262035114488"
      ]
     },
     "execution_count": 74,
     "metadata": {},
     "output_type": "execute_result"
    }
   ],
   "source": [
    "chi_sq_stat = np.sum(diff_sq_norm)\n",
    "chi_sq_stat"
   ]
  },
  {
   "cell_type": "code",
   "execution_count": 75,
   "metadata": {},
   "outputs": [
    {
     "data": {
      "text/plain": [
       "0.03363303943575132"
      ]
     },
     "execution_count": 75,
     "metadata": {},
     "output_type": "execute_result"
    }
   ],
   "source": [
    "# get the p value from chi sq statistic\n",
    "chi2.sf(chi_sq_stat, (2-1)*(2-1))"
   ]
  },
  {
   "cell_type": "code",
   "execution_count": 85,
   "metadata": {},
   "outputs": [
    {
     "name": "stdout",
     "output_type": "stream",
     "text": [
      "Chi-square Statistic: 4.513262035114488\n",
      "Degrees of Freedom: 1\n",
      "Expected Frequencies:\n",
      " [[77.20634921 74.79365079]\n",
      " [18.79365079 18.20634921]]\n",
      "P-value: 0.03363303943575132\n"
     ]
    }
   ],
   "source": [
    "# test using lib. \n",
    "contingency_table = pd.DataFrame(data, columns=['Option A', 'Option B'])\n",
    "\n",
    "# NOTE: correction param is True by default, if dof = 1. Adds Yates' correction of +/- 0.5 where the difference less is less than 0.5\n",
    "chi2_, p, dof, expected = chi2_contingency(contingency_table, correction=False)\n",
    "\n",
    "print(\"Chi-square Statistic:\", chi2_)\n",
    "print(\"Degrees of Freedom:\", dof)\n",
    "print(\"Expected Frequencies:\\n\", expected)\n",
    "print(\"P-value:\", p)\n"
   ]
  },
  {
   "cell_type": "markdown",
   "metadata": {},
   "source": [
    "## Purpose of Yates' Correction\n",
    "Yates' correction is used to prevent an overestimation of statistical significance for small datasets in a 2x2 contingency table. The correction adjusts the observed frequencies slightly towards expected frequencies(atmost 0.5), effectively adding a continuity correction that reduces the Chi-square value. This is particularly useful in reducing Type I error (false positives)."
   ]
  }
 ],
 "metadata": {
  "kernelspec": {
   "display_name": "Python 3",
   "language": "python",
   "name": "python3"
  },
  "language_info": {
   "codemirror_mode": {
    "name": "ipython",
    "version": 3
   },
   "file_extension": ".py",
   "mimetype": "text/x-python",
   "name": "python",
   "nbconvert_exporter": "python",
   "pygments_lexer": "ipython3",
   "version": "3.10.12"
  }
 },
 "nbformat": 4,
 "nbformat_minor": 2
}
