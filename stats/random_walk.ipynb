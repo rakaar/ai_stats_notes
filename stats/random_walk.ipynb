{
 "cells": [
  {
   "cell_type": "markdown",
   "metadata": {},
   "source": [
    "# Gambler Walk problem"
   ]
  },
  {
   "cell_type": "markdown",
   "metadata": {},
   "source": [
    "Start with $x = 0$\n",
    "\n",
    "with probability $p$ you get +1, with probability $q = 1-p$ you get -1\n",
    "\n",
    "Probability that $x$ will hit $N$ or $-N$"
   ]
  },
  {
   "cell_type": "markdown",
   "metadata": {},
   "source": [
    "At any point $i$, let $W(i)$ be the probability that you will win $N$ if you start from $i$\n",
    "\n",
    "$ W(i) = p W(i+1) + q W(i-1) $\n"
   ]
  },
  {
   "cell_type": "markdown",
   "metadata": {},
   "source": [
    "Boundary conditions:\n",
    "\n",
    "$W(N) = 1$\n",
    "\n",
    "$W(-N) = 0$"
   ]
  },
  {
   "cell_type": "markdown",
   "metadata": {},
   "source": [
    "Solved [here](https://youtu.be/PNrqCdslGi4?list=PL2SOU6wwxB0uwwH80KTQ6ht66KWxbzTIo&t=160)\n",
    "To solve the above difference eqn, guess $W(i) = x^i$\n",
    "\n",
    "That leads to $px^2 - x + q = 0$\n",
    "\n",
    "putting $q = 1 - p$\n",
    "\n",
    "we get $x = {1, q/p}$ "
   ]
  },
  {
   "cell_type": "markdown",
   "metadata": {},
   "source": [
    "General Solution \n",
    "$ W(i) = A 1^i + B (q/p)^i  $\n",
    "\n",
    "Use boundary conditions to find A and B"
   ]
  },
  {
   "cell_type": "markdown",
   "metadata": {},
   "source": [
    "$W(i) = \\frac{X^{N+i} - 1}{X^{2N}-1}$\n",
    "\n",
    "wher $X = q/p$. But for $q = p$ case. apply L'Hopital\n",
    "\n",
    "$ W(i) = (N+i)/N$\n",
    "\n",
    "When the bets are not $+N$ and $-N$, just move the $i$ to the something in between them.\n",
    "For example, starting from 0(i=0), probability that you will 100 or lose 50 is equivalent to starting from 25(i=25) and whether you will win 75 or loose -75"
   ]
  },
  {
   "cell_type": "markdown",
   "metadata": {},
   "source": [
    "# Brownian motion"
   ]
  },
  {
   "cell_type": "markdown",
   "metadata": {},
   "source": [
    "1. $B(t = 0)$ is 0\n",
    "2. $B(t + i) - B(t)$ is from a normal distribution $N(0, i)$\n",
    "3. Non overlapping 2 intervals $B(t+i) - B(t)$ are independent"
   ]
  },
  {
   "cell_type": "markdown",
   "metadata": {},
   "source": []
  }
 ],
 "metadata": {
  "language_info": {
   "name": "python"
  }
 },
 "nbformat": 4,
 "nbformat_minor": 2
}
